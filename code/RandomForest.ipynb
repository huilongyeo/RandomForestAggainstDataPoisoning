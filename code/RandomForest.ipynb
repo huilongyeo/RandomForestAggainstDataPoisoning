{
 "cells": [
  {
   "cell_type": "markdown",
   "metadata": {},
   "source": [
    "## 導入訓練與測試資料"
   ]
  },
  {
   "cell_type": "code",
   "execution_count": 13,
   "metadata": {},
   "outputs": [],
   "source": [
    "import numpy as np\n",
    "import pandas as pd\n",
    "\n",
    "# show all output\n",
    "pd.options.display.max_rows = None\n",
    "pd.options.display.max_columns = None"
   ]
  },
  {
   "cell_type": "code",
   "execution_count": 14,
   "metadata": {},
   "outputs": [],
   "source": [
    "train_data = pd.read_csv(\"../data/Train_Cat.csv\")\n",
    "test_data = pd.read_csv(\"../data/Test_Cat.csv\")\n",
    "\n",
    "train_data = train_data.drop([\"Unnamed: 0\"], axis=1)\n",
    "test_data = test_data.drop([\"Unnamed: 0\"], axis=1)\n"
   ]
  },
  {
   "cell_type": "code",
   "execution_count": 20,
   "metadata": {},
   "outputs": [],
   "source": [
    "column = train_data.columns\n",
    "# replace infinnity data by maximum value in float\n",
    "train_data = train_data.replace([np.inf, -np.inf], np.finfo(np.float32).max)\n",
    "test_data = test_data.replace([np.inf, -np.inf], np.finfo(np.float32).max)\n",
    "train_data.columns = column\n",
    "test_data.columns = column"
   ]
  },
  {
   "cell_type": "code",
   "execution_count": 21,
   "metadata": {},
   "outputs": [],
   "source": [
    "y_train = train_data[\"Cat\"]\n",
    "X_train = train_data.drop([\"Cat\"], axis=1)\n",
    "y_test = test_data[\"Cat\"]\n",
    "X_test = test_data.drop([\"Cat\"], axis=1)"
   ]
  },
  {
   "cell_type": "markdown",
   "metadata": {},
   "source": [
    "## 建立具有資料投毒攻擊防禦能力的隨機森林\n",
    "\n",
    "隨機森林在訓練模型時會從訓練資料集中隨機抽取資料形成子訓練集，這一步驟稱爲Bagging。Bagging可以避免訓練決策樹的時候造成過擬合，減小模型的方差。子資料集會交由不同的決策樹進行訓練，決策樹會隨機選取資料的特徵作爲決策依據，因此每一顆樹的結構都不同。不同的決策樹會生成不同的預測結果，最後使用投票決定最終的預測結果。  \n",
    "隨機森林進行Bagging的時候，若訓練資料帶有一定比例下的惡意資料，則bagging會將資料可能會將資料分爲帶有惡意資料的自集合和正常資料的子集合，帶有惡意資料的子集合其決策樹也會受影響，受影響的決策樹能夠在投票階段被識別出，最小化惡意資料的影響。\n",
    "\n",
    "使用其他決策方法取代隨機森林，並比較各決策方法的性能與能耗"
   ]
  },
  {
   "cell_type": "code",
   "execution_count": 41,
   "metadata": {},
   "outputs": [],
   "source": [
    "from sklearn.ensemble import BaggingClassifier\n",
    "from sklearn.tree import DecisionTreeClassifier\n",
    "\n",
    "class RandomForest():\n",
    "    def __init__(self,n_estimator=10, max_samples=1.0,\n",
    "                 max_features=1.0, boostrap=True, bootstrap_features=True, random_state=1):\n",
    "\n",
    "        '''\n",
    "        BaggingClassifier:\n",
    "        base_estimator: 決策方法，如Decision Tree, XGBoost等\n",
    "        n_estimators: 評估器個數\n",
    "        max_samples: 從訓練資料集X中抽取的樣本數，用於訓練每個評估器，如果值為int則抽取n個樣本，若爲float則按比例抽取特徵\n",
    "        max_features: 從訓練資料集X中提取用於訓練每個基本評估器的特徵數，同上\n",
    "        bootstrap: 是否放回采樣，如果為False則是passing\n",
    "        bootstrap_features: 是否針對特徵重抽樣\n",
    "        oob_score: 是否使用oob估計汎化誤差\n",
    "        random_state: 隨機種子\n",
    "        '''\n",
    "        self.classifier = BaggingClassifier(\n",
    "            DecisionTreeClassifier(random_state=1), n_estimators=n_estimator, max_samples=max_samples,\n",
    "            max_features=max_features, bootstrap=boostrap, bootstrap_features=bootstrap_features,\n",
    "            random_state=random_state)\n",
    "        \n",
    "    def fit(self, X, y):\n",
    "        self.classifier.fit(X,y)\n",
    "\n",
    "    def predict(self, X):\n",
    "        return self.classifier.predict(X)\n",
    "    "
   ]
  },
  {
   "cell_type": "markdown",
   "metadata": {},
   "source": [
    "## 訓練隨機森林\n",
    "使用經過處理的訓練資料對隨機森林進行訓練"
   ]
  },
  {
   "cell_type": "code",
   "execution_count": 39,
   "metadata": {},
   "outputs": [],
   "source": [
    "from sklearn import metrics\n",
    "from sklearn.metrics import classification_report"
   ]
  },
  {
   "cell_type": "code",
   "execution_count": 42,
   "metadata": {},
   "outputs": [],
   "source": [
    "rf = RandomForest()\n",
    "rf.fit(X_train, y_train)"
   ]
  },
  {
   "cell_type": "code",
   "execution_count": 43,
   "metadata": {},
   "outputs": [
    {
     "name": "stdout",
     "output_type": "stream",
     "text": [
      "Train Accuracy: 99.8880%\n"
     ]
    }
   ],
   "source": [
    "train_predict = rf.predict(X_train)\n",
    "\n",
    "accuracy_train = metrics.accuracy_score(y_train, train_predict)\n",
    "\n",
    "print(\"Train Accuracy: {:.4f}%\".format(accuracy_train * 100))"
   ]
  },
  {
   "cell_type": "code",
   "execution_count": 44,
   "metadata": {},
   "outputs": [
    {
     "name": "stdout",
     "output_type": "stream",
     "text": [
      "                   precision    recall  f1-score   support\n",
      "\n",
      "              DoS       1.00      1.00      1.00     12500\n",
      "MITM ARP Spoofing       0.99      1.00      1.00     12500\n",
      "            Mirai       1.00      1.00      1.00     12500\n",
      "           Normal       1.00      1.00      1.00     50000\n",
      "             Scan       1.00      1.00      1.00     12500\n",
      "\n",
      "         accuracy                           1.00    100000\n",
      "        macro avg       1.00      1.00      1.00    100000\n",
      "     weighted avg       1.00      1.00      1.00    100000\n",
      "\n"
     ]
    }
   ],
   "source": [
    "print(classification_report(y_train, train_predict))"
   ]
  },
  {
   "cell_type": "markdown",
   "metadata": {},
   "source": [
    "使用測試資料集驗證模型"
   ]
  },
  {
   "cell_type": "code",
   "execution_count": 45,
   "metadata": {},
   "outputs": [
    {
     "name": "stdout",
     "output_type": "stream",
     "text": [
      "Test Accuracy: 97.5380%\n"
     ]
    }
   ],
   "source": [
    "test_predict = rf.predict(X_test)\n",
    "\n",
    "accuracy_test = metrics.accuracy_score(y_test, test_predict)\n",
    "\n",
    "print(\"Test Accuracy: {:.4f}%\".format(accuracy_test * 100))"
   ]
  },
  {
   "cell_type": "code",
   "execution_count": 46,
   "metadata": {},
   "outputs": [
    {
     "name": "stdout",
     "output_type": "stream",
     "text": [
      "                   precision    recall  f1-score   support\n",
      "\n",
      "              DoS       1.00      1.00      1.00      9507\n",
      "MITM ARP Spoofing       0.75      0.99      0.85      5728\n",
      "            Mirai       1.00      0.97      0.98     66238\n",
      "           Normal       0.95      1.00      0.97      6434\n",
      "             Scan       0.99      0.98      0.98     12093\n",
      "\n",
      "         accuracy                           0.98    100000\n",
      "        macro avg       0.94      0.99      0.96    100000\n",
      "     weighted avg       0.98      0.98      0.98    100000\n",
      "\n"
     ]
    }
   ],
   "source": [
    "print(classification_report(y_test, test_predict))"
   ]
  }
 ],
 "metadata": {
  "kernelspec": {
   "display_name": ".venv",
   "language": "python",
   "name": "python3"
  },
  "language_info": {
   "codemirror_mode": {
    "name": "ipython",
    "version": 3
   },
   "file_extension": ".py",
   "mimetype": "text/x-python",
   "name": "python",
   "nbconvert_exporter": "python",
   "pygments_lexer": "ipython3",
   "version": "3.11.8"
  }
 },
 "nbformat": 4,
 "nbformat_minor": 2
}
